{
  "nbformat": 4,
  "nbformat_minor": 0,
  "metadata": {
    "kernelspec": {
      "language": "python",
      "display_name": "Python 3",
      "name": "python3"
    },
    "language_info": {
      "name": "python",
      "version": "3.7.10",
      "mimetype": "text/x-python",
      "codemirror_mode": {
        "name": "ipython",
        "version": 3
      },
      "pygments_lexer": "ipython3",
      "nbconvert_exporter": "python",
      "file_extension": ".py"
    },
    "colab": {
      "name": "isic-rotation.ipynb",
      "provenance": []
    }
  },
  "cells": [
    {
      "cell_type": "code",
      "metadata": {
        "execution": {
          "iopub.status.busy": "2021-08-11T08:12:05.999249Z",
          "iopub.execute_input": "2021-08-11T08:12:05.999579Z",
          "iopub.status.idle": "2021-08-11T08:12:06.014408Z",
          "shell.execute_reply.started": "2021-08-11T08:12:05.999547Z",
          "shell.execute_reply": "2021-08-11T08:12:06.013361Z"
        },
        "trusted": true,
        "id": "nUCs09j0hM5A"
      },
      "source": [
        "from torch.utils.data import Dataset\n",
        "from torchvision.io import read_image\n",
        "from torchvision import transforms\n",
        "from random import randrange\n",
        "import torch\n",
        "import os\n",
        "import csv\n",
        "\n",
        "\n",
        "class ISICDataset(Dataset):\n",
        "    def __init__(self, img_dir, labels_dir):\n",
        "        file = open(labels_dir, \"r\")\n",
        "        csv_reader = csv.reader(file)\n",
        "\n",
        "        self.img_labels = []\n",
        "        for row in csv_reader:\n",
        "            self.img_labels.append(row)\n",
        "        \n",
        "        self.img_dir = img_dir\n",
        "        self.transform = transforms.Compose([\n",
        "                        transforms.Resize((224,224)), \n",
        "                        transforms.Normalize((0.485, 0.456, 0.406), (0.229, 0.224, 0.225))\n",
        "                                             ])\n",
        "\n",
        "    def __len__(self):\n",
        "        return len(self.img_labels)\n",
        "\n",
        "    def __getitem__(self, idx):\n",
        "        img_path = os.path.join(self.img_dir, self.img_labels[idx][0])\n",
        "        label = randrange(4)\n",
        "        image = torch.rot90(self.transform(read_image(img_path)/255).permute(1,2,0), label, [0,1]).permute(2,0,1)\n",
        "        return image, label"
      ],
      "execution_count": null,
      "outputs": []
    },
    {
      "cell_type": "code",
      "metadata": {
        "execution": {
          "iopub.status.busy": "2021-08-11T08:12:08.832033Z",
          "iopub.execute_input": "2021-08-11T08:12:08.832392Z",
          "iopub.status.idle": "2021-08-11T08:12:08.839070Z",
          "shell.execute_reply.started": "2021-08-11T08:12:08.832338Z",
          "shell.execute_reply": "2021-08-11T08:12:08.836980Z"
        },
        "trusted": true,
        "id": "HQ03_7CohM5C"
      },
      "source": [
        "traindir = '../input/isic-2018/ISIC2018_Task1-2_Training_Input/ISIC2018_Task1-2_Training_Input'\n",
        "train_labels_dir = '../input/isic-2018/train_labels.csv'\n",
        "validdir = '../input/isic-2018/ISIC2018_Task1-2_Validation_Input/ISIC2018_Task1-2_Validation_Input'\n",
        "valid_labels_dir = '../input/isic-2018/valid_labels.csv'"
      ],
      "execution_count": null,
      "outputs": []
    },
    {
      "cell_type": "code",
      "metadata": {
        "execution": {
          "iopub.status.busy": "2021-08-11T08:12:11.244800Z",
          "iopub.execute_input": "2021-08-11T08:12:11.245159Z",
          "iopub.status.idle": "2021-08-11T08:12:11.261901Z",
          "shell.execute_reply.started": "2021-08-11T08:12:11.245126Z",
          "shell.execute_reply": "2021-08-11T08:12:11.261066Z"
        },
        "trusted": true,
        "id": "cgOhUIlohM5C"
      },
      "source": [
        "from torch.utils.data import random_split, DataLoader\n",
        "\n",
        "data = ISICDataset(traindir, train_labels_dir)\n",
        "train_dl = DataLoader(data, batch_size = 32, shuffle = True, pin_memory = True)\n",
        "\n",
        "valid_data = ISICDataset(validdir, valid_labels_dir)\n",
        "valid_dl = DataLoader(valid_data, batch_size = 10)"
      ],
      "execution_count": null,
      "outputs": []
    },
    {
      "cell_type": "code",
      "metadata": {
        "execution": {
          "iopub.status.busy": "2021-08-11T08:10:42.225394Z",
          "iopub.execute_input": "2021-08-11T08:10:42.225714Z",
          "iopub.status.idle": "2021-08-11T08:10:45.050907Z",
          "shell.execute_reply.started": "2021-08-11T08:10:42.225682Z",
          "shell.execute_reply": "2021-08-11T08:10:45.050026Z"
        },
        "trusted": true,
        "id": "QfwMoB02hM5D"
      },
      "source": [
        "import torchvision\n",
        "import torch\n",
        "model = torchvision.models.resnet34(pretrained = True)\n",
        "model.fc = torch.nn.Linear(in_features = 512, out_features = 4, bias = True)"
      ],
      "execution_count": null,
      "outputs": []
    },
    {
      "cell_type": "code",
      "metadata": {
        "execution": {
          "iopub.status.busy": "2021-08-11T08:10:48.835280Z",
          "iopub.execute_input": "2021-08-11T08:10:48.835593Z",
          "iopub.status.idle": "2021-08-11T08:11:05.965641Z",
          "shell.execute_reply.started": "2021-08-11T08:10:48.835563Z",
          "shell.execute_reply": "2021-08-11T08:11:05.964707Z"
        },
        "trusted": true,
        "id": "sZD2qwXBhM5D"
      },
      "source": [
        "import wandb\n",
        "wandb.init(project='ISIC2018', entity='tro2vs')\n",
        "config = wandb.config\n",
        "config.learning_rate = 0.001\n",
        "wandb.watch(model)"
      ],
      "execution_count": null,
      "outputs": []
    },
    {
      "cell_type": "code",
      "metadata": {
        "execution": {
          "iopub.status.busy": "2021-08-11T08:12:19.875667Z",
          "iopub.execute_input": "2021-08-11T08:12:19.876062Z",
          "iopub.status.idle": "2021-08-11T08:12:20.449718Z",
          "shell.execute_reply.started": "2021-08-11T08:12:19.876029Z",
          "shell.execute_reply": "2021-08-11T08:12:20.448915Z"
        },
        "trusted": true,
        "id": "4F9NoN8DhM5E"
      },
      "source": [
        "from sklearn.metrics import f1_score\n",
        "import time\n",
        "\n",
        "def norm_pred(pred):\n",
        "    return pred.argmax(dim = 1)\n",
        "\n",
        "def acc(labels, pred):\n",
        "    return (pred.argmax(dim = 1) == labels.cuda()).sum()/len(labels)\n",
        "\n",
        "def train(model, train_dl, valid_dl, loss_fn, optimizer, epochs=1):\n",
        "    start = time.time()\n",
        "    model.cuda()\n",
        "    best_acc = 0\n",
        "    \n",
        "    for epoch in range(epochs):\n",
        "        print('Epoch {}/{}'.format(epoch, epochs - 1))\n",
        "        print('-' * 10)\n",
        "\n",
        "        for phase in ['train', 'valid']:\n",
        "            if phase == 'train':\n",
        "                model.train(True)  \n",
        "                dataloader = train_dl\n",
        "            else:\n",
        "                model.train(False)\n",
        "                dataloader = valid_dl\n",
        "\n",
        "            running_loss = 0.0\n",
        "            running_acc = 0.0\n",
        "\n",
        "            step = 0\n",
        "            \n",
        "            for x, y in dataloader:\n",
        "                x = x.cuda()\n",
        "                y = y.cuda()\n",
        "                step += 1\n",
        "\n",
        "                if phase == 'train':\n",
        "                    optimizer.zero_grad()\n",
        "                    outputs = model(x)\n",
        "                    loss = loss_fn(outputs, y)\n",
        "\n",
        "                    loss.backward()\n",
        "                    optimizer.step()\n",
        "\n",
        "                else:\n",
        "                    with torch.no_grad():\n",
        "                        outputs = model(x)\n",
        "                        loss = loss_fn(outputs, y)\n",
        "\n",
        "                running_acc  += acc(y, outputs)*dataloader.batch_size\n",
        "                running_loss += loss*dataloader.batch_size\n",
        "\n",
        "                if step % 10 == 0:\n",
        "                    print('Current step: {}  Loss: {}  Acc: {}  AllocMem (Mb): {}'.format(step, loss, acc(y, outputs), torch.cuda.memory_allocated()/1024/1024))\n",
        "                \n",
        "          \n",
        "                \n",
        "            epoch_loss = running_loss / len(dataloader.dataset)\n",
        "            epoch_acc = running_acc / len(dataloader.dataset)\n",
        "            \n",
        "            f1 = f1_score(y.cpu().detach().numpy(),\n",
        "                                            norm_pred(outputs).cpu().detach().numpy(),\n",
        "                                  average = None, labels=[0,1,2,3])\n",
        "            f1_mic = f1_score(y.cpu().detach().numpy(),\n",
        "                                            norm_pred(outputs).cpu().detach().numpy(),\n",
        "                                  average = 'micro', labels=[0,1,2,3])\n",
        "            f1_mac = f1_score(y.cpu().detach().numpy(),\n",
        "                                            norm_pred(outputs).cpu().detach().numpy(),\n",
        "                                  average = 'macro', labels=[0,1,2,3])\n",
        "            f1_weighted = f1_score(y.cpu().detach().numpy(),\n",
        "                                            norm_pred(outputs).cpu().detach().numpy(),\n",
        "                                  average = 'weighted', labels=[0,1,2,3])\n",
        "            \n",
        "            print('{} Loss: {:.4f} Acc: {}'.format(phase, epoch_loss, epoch_acc))\n",
        "            \n",
        "            if phase == 'valid':\n",
        "                wandb.log({\"Loss/test\": epoch_loss})\n",
        "                wandb.log({\"Accuracy/test\": epoch_acc})\n",
        "                wandb.log({\"f1-score/test/micro\": f1_mic})\n",
        "                wandb.log({\"f1-score/test/macro\": f1_mac})\n",
        "                wandb.log({\"f1-score/test/weighted\": f1_weighted})\n",
        "\n",
        "                for i in range(4):\n",
        "                    wandb.log({\"f1-score/test/class_\"+str(i): f1[i]})      \n",
        "                \n",
        "                if epoch_acc > best_acc:\n",
        "                    best_acc = epoch_acc\n",
        "                    torch.save(model.state_dict(), \"best_model.pt\")\n",
        "                    wandb.save('./best_model.pt')\n",
        "            else:\n",
        "                torch.save(model.state_dict(), \"full_train_model.pt\")\n",
        "                wandb.save('./full_train_model.pt')\n",
        "                \n",
        "                wandb.log({\"Loss/train\": epoch_loss})\n",
        "                wandb.log({\"Accuracy/train\": epoch_acc})\n",
        "                wandb.log({\"f1-score/train/micro\": f1_mic})\n",
        "                wandb.log({\"f1-score/train/macro\": f1_mac})\n",
        "                wandb.log({\"f1-score/train/weighted\": f1_weighted})\n",
        "                \n",
        "                for i in range(4):\n",
        "                    wandb.log({\"f1-score/train/class_\"+str(i): f1[i]})\n",
        "                \n",
        "\n",
        "\n",
        "    time_elapsed = time.time() - start\n",
        "    print('Training complete in {:.0f}m {:.0f}s'.format(time_elapsed // 60, time_elapsed % 60))    \n",
        "    #model = torch.load(\"best_model.pt\")"
      ],
      "execution_count": null,
      "outputs": []
    },
    {
      "cell_type": "code",
      "metadata": {
        "execution": {
          "iopub.status.busy": "2021-08-11T08:12:32.232783Z",
          "iopub.execute_input": "2021-08-11T08:12:32.233150Z"
        },
        "trusted": true,
        "id": "3idnt4tVhM5H"
      },
      "source": [
        "loss_fn = torch.nn.CrossEntropyLoss()\n",
        "opt = torch.optim.Adam(model.parameters(), lr = 0.001)\n",
        "train(model, train_dl, valid_dl, loss_fn, \n",
        "                             opt, epochs = 5)"
      ],
      "execution_count": null,
      "outputs": []
    },
    {
      "cell_type": "code",
      "metadata": {
        "id": "qL2S4jOuhQsw"
      },
      "source": [
        "wandb.finish()"
      ],
      "execution_count": null,
      "outputs": []
    }
  ]
}